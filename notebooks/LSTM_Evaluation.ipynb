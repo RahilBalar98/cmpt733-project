{
 "cells": [
  {
   "cell_type": "code",
   "execution_count": 1,
   "id": "0314c129",
   "metadata": {},
   "outputs": [
    {
     "name": "stderr",
     "output_type": "stream",
     "text": [
      "[nltk_data] Downloading package wordnet to /home/dnp5/nltk_data...\n",
      "[nltk_data]   Package wordnet is already up-to-date!\n",
      "[nltk_data] Downloading package punkt to /home/dnp5/nltk_data...\n",
      "[nltk_data]   Package punkt is already up-to-date!\n",
      "[nltk_data] Downloading package omw-1.4 to /home/dnp5/nltk_data...\n",
      "[nltk_data]   Package omw-1.4 is already up-to-date!\n"
     ]
    }
   ],
   "source": [
    "import pandas as pd\n",
    "import matplotlib.pyplot as plt\n",
    "import re\n",
    "from bs4 import BeautifulSoup\n",
    "import string\n",
    "import numpy as np\n",
    "import os\n",
    "import glob\n",
    "from ast import literal_eval\n",
    "import itertools\n",
    "\n",
    "import warnings\n",
    "warnings.simplefilter('ignore')\n",
    "\n",
    "import nltk\n",
    "nltk.download('wordnet')\n",
    "nltk.download('punkt')\n",
    "nltk.download('omw-1.4')\n",
    "from nltk.stem import WordNetLemmatizer\n",
    "from sklearn.feature_extraction.text import CountVectorizer\n",
    "\n",
    "import wordcloud\n",
    "from wordcloud import WordCloud, STOPWORDS\n",
    "from textblob import Word\n",
    "from collections import Counter\n",
    "\n",
    "from keras.models import Sequential\n",
    "from keras.preprocessing.text import Tokenizer\n",
    "from keras.preprocessing.sequence import pad_sequences\n",
    "from keras.layers import Dense, Embedding, LSTM, SpatialDropout1D\n",
    "from keras.models import load_model\n",
    "\n",
    "from sklearn.preprocessing import LabelEncoder\n",
    "from sklearn.model_selection import train_test_split\n",
    "from sklearn.metrics import classification_report, accuracy_score, precision_score, recall_score, confusion_matrix, roc_auc_score"
   ]
  },
  {
   "cell_type": "code",
   "execution_count": 2,
   "id": "9df1d59f",
   "metadata": {},
   "outputs": [],
   "source": [
    "# Modularize Pre-process function\n",
    "stopwords_lstm = pd.read_csv('LSTM model/stopwords_lstm.csv')\n",
    "\n",
    "def preprocess(text):\n",
    "    \n",
    "    stopwords = set(STOPWORDS)\n",
    "    \n",
    "    # Appending new airline related stop-words\n",
    "    stopwords.update([str(i).lower() for i in stopwords_lstm.name]) \n",
    "    \n",
    "    # Filter for mentions\n",
    "    mentions_filter = re.compile(r'(?<=\\@)(\\w+)')\n",
    "    \n",
    "    # Filter for hash-tags\n",
    "    hashtags_filter = re.compile(r'(?<=\\#)(\\w+)')\n",
    "    \n",
    "    # Filter for flights numbers\n",
    "    flight_numbers = re.compile(r'(flt\\d*)')\n",
    "    \n",
    "    # Finding all mentions\n",
    "    all_mentions = mentions_filter.findall(text.lower())\n",
    "    \n",
    "    # Finding all hash-tags\n",
    "    all_hashtag = hashtags_filter.findall(text.lower())\n",
    "    \n",
    "    # Finding all hash-tags\n",
    "    all_flights = flight_numbers.findall(text.lower())\n",
    "    \n",
    "    word_lemmatize = WordNetLemmatizer()\n",
    "    # Stemming \n",
    "    def stem_tokens(tokens, lemmatize):\n",
    "        lemmatized = []\n",
    "        for item in tokens:\n",
    "            lemmatized.append(word_lemmatize.lemmatize(item,'v'))\n",
    "        return lemmatized\n",
    "    \n",
    "    # De-emojify tweets to text\n",
    "    def deEmojify(inputString):\n",
    "        return inputString.encode('ascii', 'ignore').decode('ascii')\n",
    "    \n",
    "    text = deEmojify(text)\n",
    "    soup = BeautifulSoup(text)\n",
    "    text = soup.get_text()\n",
    "    \n",
    "    # Removing punctuation\n",
    "    punc_text = [x.lower() for x in text if x not in string.punctuation]\n",
    "    text = \"\".join(punc_text)\n",
    "    \n",
    "    # Tokenize words\n",
    "    word_tokens = nltk.word_tokenize(text)\n",
    "    \n",
    "    # Keeping the words with length between 4 and 15\n",
    "    filtered_tokens = [x for x in word_tokens if len(x)>2 and len(x)<15]\n",
    "    \n",
    "    # Filter tokens\n",
    "    tokens = stem_tokens(filtered_tokens, word_lemmatize)\n",
    "    all_tokens = [i for i in tokens if (i not in stopwords) and (i not in all_mentions) \n",
    "                  and (i not in all_hashtag) and (i not in all_flights) and (not i.isdigit())]\n",
    "    \n",
    "    return all_tokens"
   ]
  },
  {
   "cell_type": "code",
   "execution_count": 3,
   "id": "8da07443",
   "metadata": {},
   "outputs": [
    {
     "name": "stdout",
     "output_type": "stream",
     "text": [
      "WARNING:tensorflow:Layer lstm will not use cuDNN kernels since it doesn't meet the criteria. It will use a generic GPU kernel as fallback when running on GPU.\n"
     ]
    },
    {
     "name": "stderr",
     "output_type": "stream",
     "text": [
      "2022-04-08 13:40:49.104313: I tensorflow/stream_executor/cuda/cuda_gpu_executor.cc:939] successful NUMA node read from SysFS had negative value (-1), but there must be at least one NUMA node, so returning NUMA node zero\n",
      "2022-04-08 13:40:49.126093: I tensorflow/stream_executor/cuda/cuda_gpu_executor.cc:939] successful NUMA node read from SysFS had negative value (-1), but there must be at least one NUMA node, so returning NUMA node zero\n",
      "2022-04-08 13:40:49.126325: I tensorflow/stream_executor/cuda/cuda_gpu_executor.cc:939] successful NUMA node read from SysFS had negative value (-1), but there must be at least one NUMA node, so returning NUMA node zero\n",
      "2022-04-08 13:40:49.126894: I tensorflow/core/platform/cpu_feature_guard.cc:151] This TensorFlow binary is optimized with oneAPI Deep Neural Network Library (oneDNN) to use the following CPU instructions in performance-critical operations:  SSE4.1 SSE4.2 AVX AVX2 FMA\n",
      "To enable them in other operations, rebuild TensorFlow with the appropriate compiler flags.\n",
      "2022-04-08 13:40:49.127268: I tensorflow/stream_executor/cuda/cuda_gpu_executor.cc:939] successful NUMA node read from SysFS had negative value (-1), but there must be at least one NUMA node, so returning NUMA node zero\n",
      "2022-04-08 13:40:49.127461: I tensorflow/stream_executor/cuda/cuda_gpu_executor.cc:939] successful NUMA node read from SysFS had negative value (-1), but there must be at least one NUMA node, so returning NUMA node zero\n",
      "2022-04-08 13:40:49.127634: I tensorflow/stream_executor/cuda/cuda_gpu_executor.cc:939] successful NUMA node read from SysFS had negative value (-1), but there must be at least one NUMA node, so returning NUMA node zero\n",
      "2022-04-08 13:40:49.486038: I tensorflow/stream_executor/cuda/cuda_gpu_executor.cc:939] successful NUMA node read from SysFS had negative value (-1), but there must be at least one NUMA node, so returning NUMA node zero\n",
      "2022-04-08 13:40:49.486191: I tensorflow/stream_executor/cuda/cuda_gpu_executor.cc:939] successful NUMA node read from SysFS had negative value (-1), but there must be at least one NUMA node, so returning NUMA node zero\n",
      "2022-04-08 13:40:49.486303: I tensorflow/stream_executor/cuda/cuda_gpu_executor.cc:939] successful NUMA node read from SysFS had negative value (-1), but there must be at least one NUMA node, so returning NUMA node zero\n",
      "2022-04-08 13:40:49.486393: I tensorflow/core/common_runtime/gpu/gpu_device.cc:1525] Created device /job:localhost/replica:0/task:0/device:GPU:0 with 6583 MB memory:  -> device: 0, name: NVIDIA GeForce RTX 2080, pci bus id: 0000:01:00.0, compute capability: 7.5\n"
     ]
    }
   ],
   "source": [
    "model = load_model(\"LSTM model/model.h5\")\n",
    "model.load_weights('LSTM model/model_weights.h5') \n",
    "model.compile(loss = 'categorical_crossentropy', optimizer='adam', metrics = ['accuracy'])\n",
    "\n",
    "f = open('LSTM model/X_train_max_length.txt', \"r\")\n",
    "max_length = int(f.read())\n",
    "\n",
    "df_vals = pd.read_csv('LSTM model/train_text_vals.csv',converters={'text_tokenized': literal_eval})\n",
    "tokenizer = Tokenizer(num_words=500, split=' ')\n",
    "tokenizer.fit_on_texts(df_vals['text_tokenized'].values)"
   ]
  },
  {
   "cell_type": "code",
   "execution_count": 4,
   "id": "64e19954",
   "metadata": {},
   "outputs": [
    {
     "data": {
      "text/html": [
       "<div>\n",
       "<style scoped>\n",
       "    .dataframe tbody tr th:only-of-type {\n",
       "        vertical-align: middle;\n",
       "    }\n",
       "\n",
       "    .dataframe tbody tr th {\n",
       "        vertical-align: top;\n",
       "    }\n",
       "\n",
       "    .dataframe thead th {\n",
       "        text-align: right;\n",
       "    }\n",
       "</style>\n",
       "<table border=\"1\" class=\"dataframe\">\n",
       "  <thead>\n",
       "    <tr style=\"text-align: right;\">\n",
       "      <th></th>\n",
       "      <th>tweet_id</th>\n",
       "      <th>username</th>\n",
       "      <th>text</th>\n",
       "      <th>airline_name</th>\n",
       "      <th>airline_sentiment</th>\n",
       "      <th>tweet_location</th>\n",
       "    </tr>\n",
       "  </thead>\n",
       "  <tbody>\n",
       "    <tr>\n",
       "      <th>149</th>\n",
       "      <td>5.695960e+17</td>\n",
       "      <td>khartline</td>\n",
       "      <td>.@VirginAmerica I don't understand why you nee...</td>\n",
       "      <td>Virgin America</td>\n",
       "      <td>negative</td>\n",
       "      <td>Las Vegas</td>\n",
       "    </tr>\n",
       "    <tr>\n",
       "      <th>1495</th>\n",
       "      <td>5.696990e+17</td>\n",
       "      <td>scottecrouch</td>\n",
       "      <td>@united we've been waiting 45 min for a gate a...</td>\n",
       "      <td>United</td>\n",
       "      <td>negative</td>\n",
       "      <td>New York &amp; Washington, D.C.</td>\n",
       "    </tr>\n",
       "    <tr>\n",
       "      <th>5866</th>\n",
       "      <td>5.685370e+17</td>\n",
       "      <td>PLLMyObsessionn</td>\n",
       "      <td>@SouthwestAir yes please</td>\n",
       "      <td>Southwest</td>\n",
       "      <td>neutral</td>\n",
       "      <td>We know all so follow -A</td>\n",
       "    </tr>\n",
       "    <tr>\n",
       "      <th>11611</th>\n",
       "      <td>5.678810e+17</td>\n",
       "      <td>wcpojesse</td>\n",
       "      <td>@USAirways thanks! It's hectic for everyone bu...</td>\n",
       "      <td>US Airways</td>\n",
       "      <td>positive</td>\n",
       "      <td>Cincinnati</td>\n",
       "    </tr>\n",
       "    <tr>\n",
       "      <th>14488</th>\n",
       "      <td>5.696080e+17</td>\n",
       "      <td>igclp</td>\n",
       "      <td>@AmericanAir I would like a refund for this fl...</td>\n",
       "      <td>American</td>\n",
       "      <td>negative</td>\n",
       "      <td>NaN</td>\n",
       "    </tr>\n",
       "  </tbody>\n",
       "</table>\n",
       "</div>"
      ],
      "text/plain": [
       "           tweet_id         username  \\\n",
       "149    5.695960e+17        khartline   \n",
       "1495   5.696990e+17     scottecrouch   \n",
       "5866   5.685370e+17  PLLMyObsessionn   \n",
       "11611  5.678810e+17        wcpojesse   \n",
       "14488  5.696080e+17            igclp   \n",
       "\n",
       "                                                    text    airline_name  \\\n",
       "149    .@VirginAmerica I don't understand why you nee...  Virgin America   \n",
       "1495   @united we've been waiting 45 min for a gate a...          United   \n",
       "5866                            @SouthwestAir yes please       Southwest   \n",
       "11611  @USAirways thanks! It's hectic for everyone bu...      US Airways   \n",
       "14488  @AmericanAir I would like a refund for this fl...        American   \n",
       "\n",
       "      airline_sentiment               tweet_location  \n",
       "149            negative                    Las Vegas  \n",
       "1495           negative  New York & Washington, D.C.  \n",
       "5866            neutral     We know all so follow -A  \n",
       "11611          positive                   Cincinnati  \n",
       "14488          negative                          NaN  "
      ]
     },
     "execution_count": 4,
     "metadata": {},
     "output_type": "execute_result"
    }
   ],
   "source": [
    "from sklearn.utils import shuffle\n",
    "import pandas as pd\n",
    "df = pd.read_csv('final_train_df.csv',encoding = \"ISO-8859-1\")\n",
    "df = df.drop(['Unnamed: 0'],axis=1)\n",
    "df = shuffle(df)\n",
    "df.head()"
   ]
  },
  {
   "cell_type": "code",
   "execution_count": 5,
   "id": "d0d8e5dc",
   "metadata": {},
   "outputs": [],
   "source": [
    "df['processed_tweet'] = df['text'].apply(lambda x: preprocess(x)) "
   ]
  },
  {
   "cell_type": "code",
   "execution_count": 6,
   "id": "4278a06b",
   "metadata": {},
   "outputs": [
    {
     "data": {
      "text/html": [
       "<div>\n",
       "<style scoped>\n",
       "    .dataframe tbody tr th:only-of-type {\n",
       "        vertical-align: middle;\n",
       "    }\n",
       "\n",
       "    .dataframe tbody tr th {\n",
       "        vertical-align: top;\n",
       "    }\n",
       "\n",
       "    .dataframe thead th {\n",
       "        text-align: right;\n",
       "    }\n",
       "</style>\n",
       "<table border=\"1\" class=\"dataframe\">\n",
       "  <thead>\n",
       "    <tr style=\"text-align: right;\">\n",
       "      <th></th>\n",
       "      <th>tweet_id</th>\n",
       "      <th>username</th>\n",
       "      <th>text</th>\n",
       "      <th>airline_name</th>\n",
       "      <th>airline_sentiment</th>\n",
       "      <th>tweet_location</th>\n",
       "      <th>processed_tweet</th>\n",
       "    </tr>\n",
       "  </thead>\n",
       "  <tbody>\n",
       "    <tr>\n",
       "      <th>149</th>\n",
       "      <td>5.695960e+17</td>\n",
       "      <td>khartline</td>\n",
       "      <td>.@VirginAmerica I don't understand why you nee...</td>\n",
       "      <td>Virgin America</td>\n",
       "      <td>negative</td>\n",
       "      <td>Las Vegas</td>\n",
       "      <td>[dont, understand, need, give, answer, damage,...</td>\n",
       "    </tr>\n",
       "    <tr>\n",
       "      <th>1495</th>\n",
       "      <td>5.696990e+17</td>\n",
       "      <td>scottecrouch</td>\n",
       "      <td>@united we've been waiting 45 min for a gate a...</td>\n",
       "      <td>United</td>\n",
       "      <td>negative</td>\n",
       "      <td>New York &amp; Washington, D.C.</td>\n",
       "      <td>[unite, weve, wait, min, gate, sfo, yet, many,...</td>\n",
       "    </tr>\n",
       "    <tr>\n",
       "      <th>5866</th>\n",
       "      <td>5.685370e+17</td>\n",
       "      <td>PLLMyObsessionn</td>\n",
       "      <td>@SouthwestAir yes please</td>\n",
       "      <td>Southwest</td>\n",
       "      <td>neutral</td>\n",
       "      <td>We know all so follow -A</td>\n",
       "      <td>[yes, please]</td>\n",
       "    </tr>\n",
       "    <tr>\n",
       "      <th>11611</th>\n",
       "      <td>5.678810e+17</td>\n",
       "      <td>wcpojesse</td>\n",
       "      <td>@USAirways thanks! It's hectic for everyone bu...</td>\n",
       "      <td>US Airways</td>\n",
       "      <td>positive</td>\n",
       "      <td>Cincinnati</td>\n",
       "      <td>[thank, hectic, everyone, action, dont, repres...</td>\n",
       "    </tr>\n",
       "    <tr>\n",
       "      <th>14488</th>\n",
       "      <td>5.696080e+17</td>\n",
       "      <td>igclp</td>\n",
       "      <td>@AmericanAir I would like a refund for this fl...</td>\n",
       "      <td>American</td>\n",
       "      <td>negative</td>\n",
       "      <td>NaN</td>\n",
       "      <td>[refund, delay, time, feel, youre, make, fun]</td>\n",
       "    </tr>\n",
       "  </tbody>\n",
       "</table>\n",
       "</div>"
      ],
      "text/plain": [
       "           tweet_id         username  \\\n",
       "149    5.695960e+17        khartline   \n",
       "1495   5.696990e+17     scottecrouch   \n",
       "5866   5.685370e+17  PLLMyObsessionn   \n",
       "11611  5.678810e+17        wcpojesse   \n",
       "14488  5.696080e+17            igclp   \n",
       "\n",
       "                                                    text    airline_name  \\\n",
       "149    .@VirginAmerica I don't understand why you nee...  Virgin America   \n",
       "1495   @united we've been waiting 45 min for a gate a...          United   \n",
       "5866                            @SouthwestAir yes please       Southwest   \n",
       "11611  @USAirways thanks! It's hectic for everyone bu...      US Airways   \n",
       "14488  @AmericanAir I would like a refund for this fl...        American   \n",
       "\n",
       "      airline_sentiment               tweet_location  \\\n",
       "149            negative                    Las Vegas   \n",
       "1495           negative  New York & Washington, D.C.   \n",
       "5866            neutral     We know all so follow -A   \n",
       "11611          positive                   Cincinnati   \n",
       "14488          negative                          NaN   \n",
       "\n",
       "                                         processed_tweet  \n",
       "149    [dont, understand, need, give, answer, damage,...  \n",
       "1495   [unite, weve, wait, min, gate, sfo, yet, many,...  \n",
       "5866                                       [yes, please]  \n",
       "11611  [thank, hectic, everyone, action, dont, repres...  \n",
       "14488      [refund, delay, time, feel, youre, make, fun]  "
      ]
     },
     "execution_count": 6,
     "metadata": {},
     "output_type": "execute_result"
    }
   ],
   "source": [
    "df.head()"
   ]
  },
  {
   "cell_type": "code",
   "execution_count": 7,
   "id": "d146a7e5",
   "metadata": {},
   "outputs": [],
   "source": [
    "X = df.drop(['airline_sentiment'],axis=1)\n",
    "y = df['airline_sentiment']\n",
    "\n",
    "X_train, X_test, y_train, y_test = train_test_split(X,y, test_size = 0.2, random_state = 42)"
   ]
  },
  {
   "cell_type": "code",
   "execution_count": 8,
   "id": "d604d4d1",
   "metadata": {},
   "outputs": [],
   "source": [
    "def decode_prediction(prediction):\n",
    "    if prediction == 0:\n",
    "        return \"Negative\"\n",
    "    elif prediction == 1:\n",
    "        return \"Neutral\"\n",
    "    else:\n",
    "        return \"Positive\"\n",
    "\n",
    "def predict_sentiment(text):\n",
    "    text = preprocess(text)\n",
    "    text = pad_sequences(tokenizer.texts_to_sequences([text]), maxlen = max_length, dtype='float64')\n",
    "\n",
    "    prediction = model.predict([text])\n",
    "    result = np.where(prediction[0] == np.amax(prediction[0]))\n",
    "\n",
    "    return decode_prediction(result[0])"
   ]
  },
  {
   "cell_type": "code",
   "execution_count": 9,
   "id": "2d97c176",
   "metadata": {},
   "outputs": [],
   "source": [
    "y_pred = X_test['text'].apply(lambda x: predict_sentiment(x)) "
   ]
  },
  {
   "cell_type": "code",
   "execution_count": 10,
   "id": "b69147ac",
   "metadata": {},
   "outputs": [],
   "source": [
    "y_pred = y_pred.map({'Negative':0,'Neutral':1,'Positive':2})"
   ]
  },
  {
   "cell_type": "code",
   "execution_count": 11,
   "id": "3b66d0a2",
   "metadata": {},
   "outputs": [],
   "source": [
    "y_test = y_test.map({'negative':0,'neutral':1,'positive':2})"
   ]
  },
  {
   "cell_type": "code",
   "execution_count": 12,
   "id": "e89131f0",
   "metadata": {},
   "outputs": [
    {
     "data": {
      "text/plain": [
       "array([[1371,  407,  200],\n",
       "       [ 128,  334,  158],\n",
       "       [  58,   56,  383]])"
      ]
     },
     "execution_count": 12,
     "metadata": {},
     "output_type": "execute_result"
    }
   ],
   "source": [
    "cnf_matrix = confusion_matrix(y_test, y_pred)\n",
    "cnf_matrix"
   ]
  },
  {
   "cell_type": "code",
   "execution_count": 13,
   "id": "a30c8508",
   "metadata": {},
   "outputs": [],
   "source": [
    "def plot_confusion_matrix(cm, classes):\n",
    "\n",
    "    tick_marks = np.arange(len(classes))\n",
    "    \n",
    "    for i, j in itertools.product(range(cm.shape[0]), range(cm.shape[1])):\n",
    "        plt.text(j, i, format(cm[i, j]), horizontalalignment=\"center\",\n",
    "                 color=\"white\" if cm[i, j] > (cm.max() / 2.0) else \"black\")\n",
    "    \n",
    "    plt.imshow(cm, cmap = plt.cm.YlGnBu)\n",
    "    plt.colorbar()\n",
    "    plt.title('Confusion matrix')\n",
    "    plt.ylabel('True label')\n",
    "    plt.xlabel('Predicted label')\n",
    "    plt.xticks(tick_marks, classes)\n",
    "    plt.yticks(tick_marks, classes)\n",
    "    plt.tight_layout()"
   ]
  },
  {
   "cell_type": "code",
   "execution_count": 14,
   "id": "33ee5275",
   "metadata": {},
   "outputs": [
    {
     "data": {
      "image/png": "[encoded data removed]",
      "text/plain": [
       "<Figure size 432x288 with 2 Axes>"
      ]
     },
     "metadata": {
      "needs_background": "light"
     },
     "output_type": "display_data"
    }
   ],
   "source": [
    "plot_confusion_matrix(cnf_matrix, classes=['Negative', 'Neutral', 'Positive'])"
   ]
  }
 ],
 "metadata": {
  "kernelspec": {
   "display_name": "Python 3 (ipykernel)",
   "language": "python",
   "name": "python3"
  },
  "language_info": {
   "codemirror_mode": {
    "name": "ipython",
    "version": 3
   },
   "file_extension": ".py",
   "mimetype": "text/x-python",
   "name": "python",
   "nbconvert_exporter": "python",
   "pygments_lexer": "ipython3",
   "version": "3.9.10"
  }
 },
 "nbformat": 4,
 "nbformat_minor": 5
}

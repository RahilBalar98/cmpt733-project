{
 "cells": [
  {
   "cell_type": "code",
   "execution_count": 1,
   "id": "0314c129",
   "metadata": {},
   "outputs": [
    {
     "name": "stderr",
     "output_type": "stream",
     "text": [
      "[nltk_data] Downloading package wordnet to /home/dnp5/nltk_data...\n",
      "[nltk_data]   Package wordnet is already up-to-date!\n",
      "[nltk_data] Downloading package punkt to /home/dnp5/nltk_data...\n",
      "[nltk_data]   Package punkt is already up-to-date!\n",
      "[nltk_data] Downloading package omw-1.4 to /home/dnp5/nltk_data...\n",
      "[nltk_data]   Package omw-1.4 is already up-to-date!\n"
     ]
    }
   ],
   "source": [
    "import pandas as pd\n",
    "import matplotlib.pyplot as plt\n",
    "import re\n",
    "from bs4 import BeautifulSoup\n",
    "import string\n",
    "import numpy as np\n",
    "import os\n",
    "import glob\n",
    "from ast import literal_eval\n",
    "import itertools\n",
    "\n",
    "import warnings\n",
    "warnings.simplefilter('ignore')\n",
    "\n",
    "import nltk\n",
    "nltk.download('wordnet')\n",
    "nltk.download('punkt')\n",
    "nltk.download('omw-1.4')\n",
    "from nltk.stem import WordNetLemmatizer\n",
    "from sklearn.feature_extraction.text import CountVectorizer\n",
    "\n",
    "import wordcloud\n",
    "from wordcloud import WordCloud, STOPWORDS\n",
    "from textblob import Word\n",
    "from collections import Counter\n",
    "\n",
    "from keras.models import Sequential\n",
    "from keras.preprocessing.text import Tokenizer\n",
    "from keras.preprocessing.sequence import pad_sequences\n",
    "from keras.layers import Dense, Embedding, LSTM, SpatialDropout1D\n",
    "from keras.models import load_model\n",
    "\n",
    "from sklearn.preprocessing import LabelEncoder\n",
    "from sklearn.model_selection import train_test_split\n",
    "from sklearn.metrics import classification_report, accuracy_score, precision_score, recall_score, confusion_matrix,f1_score,roc_auc_score"
   ]
  },
  {
   "cell_type": "code",
   "execution_count": 2,
   "id": "9df1d59f",
   "metadata": {},
   "outputs": [],
   "source": [
    "# Modularize Pre-process function\n",
    "stopwords_lstm = pd.read_csv('LSTM model/stopwords_lstm.csv')\n",
    "\n",
    "def preprocess(text):\n",
    "    \n",
    "    stopwords = set(STOPWORDS)\n",
    "    \n",
    "    # Appending new airline related stop-words\n",
    "    stopwords.update([str(i).lower() for i in stopwords_lstm.name]) \n",
    "    \n",
    "    # Filter for mentions\n",
    "    mentions_filter = re.compile(r'(?<=\\@)(\\w+)')\n",
    "    \n",
    "    # Filter for hash-tags\n",
    "    hashtags_filter = re.compile(r'(?<=\\#)(\\w+)')\n",
    "    \n",
    "    # Filter for flights numbers\n",
    "    flight_numbers = re.compile(r'(flt\\d*)')\n",
    "    \n",
    "    # Finding all mentions\n",
    "    all_mentions = mentions_filter.findall(text.lower())\n",
    "    \n",
    "    # Finding all hash-tags\n",
    "    all_hashtag = hashtags_filter.findall(text.lower())\n",
    "    \n",
    "    # Finding all hash-tags\n",
    "    all_flights = flight_numbers.findall(text.lower())\n",
    "    \n",
    "    word_lemmatize = WordNetLemmatizer()\n",
    "    # Stemming \n",
    "    def stem_tokens(tokens, lemmatize):\n",
    "        lemmatized = []\n",
    "        for item in tokens:\n",
    "            lemmatized.append(word_lemmatize.lemmatize(item,'v'))\n",
    "        return lemmatized\n",
    "    \n",
    "    # De-emojify tweets to text\n",
    "    def deEmojify(inputString):\n",
    "        return inputString.encode('ascii', 'ignore').decode('ascii')\n",
    "    \n",
    "    text = deEmojify(text)\n",
    "    soup = BeautifulSoup(text)\n",
    "    text = soup.get_text()\n",
    "    \n",
    "    # Removing punctuation\n",
    "    punc_text = [x.lower() for x in text if x not in string.punctuation]\n",
    "    text = \"\".join(punc_text)\n",
    "    \n",
    "    # Tokenize words\n",
    "    word_tokens = nltk.word_tokenize(text)\n",
    "    \n",
    "    # Keeping the words with length between 4 and 15\n",
    "    filtered_tokens = [x for x in word_tokens if len(x)>2 and len(x)<15]\n",
    "    \n",
    "    # Filter tokens\n",
    "    tokens = stem_tokens(filtered_tokens, word_lemmatize)\n",
    "    all_tokens = [i for i in tokens if (i not in stopwords) and (i not in all_mentions) \n",
    "                  and (i not in all_hashtag) and (i not in all_flights) and (not i.isdigit())]\n",
    "    \n",
    "    return all_tokens"
   ]
  },
  {
   "cell_type": "code",
   "execution_count": 3,
   "id": "8da07443",
   "metadata": {},
   "outputs": [
    {
     "name": "stdout",
     "output_type": "stream",
     "text": [
      "WARNING:tensorflow:Layer lstm will not use cuDNN kernels since it doesn't meet the criteria. It will use a generic GPU kernel as fallback when running on GPU.\n"
     ]
    },
    {
     "name": "stderr",
     "output_type": "stream",
     "text": [
      "2022-04-09 18:09:13.135725: I tensorflow/stream_executor/cuda/cuda_gpu_executor.cc:939] successful NUMA node read from SysFS had negative value (-1), but there must be at least one NUMA node, so returning NUMA node zero\n",
      "2022-04-09 18:09:13.152533: I tensorflow/stream_executor/cuda/cuda_gpu_executor.cc:939] successful NUMA node read from SysFS had negative value (-1), but there must be at least one NUMA node, so returning NUMA node zero\n",
      "2022-04-09 18:09:13.152720: I tensorflow/stream_executor/cuda/cuda_gpu_executor.cc:939] successful NUMA node read from SysFS had negative value (-1), but there must be at least one NUMA node, so returning NUMA node zero\n",
      "2022-04-09 18:09:13.153192: I tensorflow/core/platform/cpu_feature_guard.cc:151] This TensorFlow binary is optimized with oneAPI Deep Neural Network Library (oneDNN) to use the following CPU instructions in performance-critical operations:  SSE4.1 SSE4.2 AVX AVX2 FMA\n",
      "To enable them in other operations, rebuild TensorFlow with the appropriate compiler flags.\n",
      "2022-04-09 18:09:13.153483: I tensorflow/stream_executor/cuda/cuda_gpu_executor.cc:939] successful NUMA node read from SysFS had negative value (-1), but there must be at least one NUMA node, so returning NUMA node zero\n",
      "2022-04-09 18:09:13.153638: I tensorflow/stream_executor/cuda/cuda_gpu_executor.cc:939] successful NUMA node read from SysFS had negative value (-1), but there must be at least one NUMA node, so returning NUMA node zero\n",
      "2022-04-09 18:09:13.153777: I tensorflow/stream_executor/cuda/cuda_gpu_executor.cc:939] successful NUMA node read from SysFS had negative value (-1), but there must be at least one NUMA node, so returning NUMA node zero\n",
      "2022-04-09 18:09:13.518758: I tensorflow/stream_executor/cuda/cuda_gpu_executor.cc:939] successful NUMA node read from SysFS had negative value (-1), but there must be at least one NUMA node, so returning NUMA node zero\n",
      "2022-04-09 18:09:13.518917: I tensorflow/stream_executor/cuda/cuda_gpu_executor.cc:939] successful NUMA node read from SysFS had negative value (-1), but there must be at least one NUMA node, so returning NUMA node zero\n",
      "2022-04-09 18:09:13.519030: I tensorflow/stream_executor/cuda/cuda_gpu_executor.cc:939] successful NUMA node read from SysFS had negative value (-1), but there must be at least one NUMA node, so returning NUMA node zero\n",
      "2022-04-09 18:09:13.519121: I tensorflow/core/common_runtime/gpu/gpu_device.cc:1525] Created device /job:localhost/replica:0/task:0/device:GPU:0 with 6583 MB memory:  -> device: 0, name: NVIDIA GeForce RTX 2080, pci bus id: 0000:01:00.0, compute capability: 7.5\n"
     ]
    }
   ],
   "source": [
    "model = load_model(\"LSTM model/model.h5\")\n",
    "model.load_weights('LSTM model/model_weights.h5') \n",
    "model.compile(loss = 'categorical_crossentropy', optimizer='adam', metrics = ['accuracy'])\n",
    "\n",
    "f = open('LSTM model/X_train_max_length.txt', \"r\")\n",
    "max_length = int(f.read())\n",
    "\n",
    "df_vals = pd.read_csv('LSTM model/train_text_vals.csv',converters={'text_tokenized': literal_eval})\n",
    "tokenizer = Tokenizer(num_words=500, split=' ')\n",
    "tokenizer.fit_on_texts(df_vals['text_tokenized'].values)"
   ]
  },
  {
   "cell_type": "code",
   "execution_count": 4,
   "id": "64e19954",
   "metadata": {},
   "outputs": [
    {
     "data": {
      "text/html": [
       "<div>\n",
       "<style scoped>\n",
       "    .dataframe tbody tr th:only-of-type {\n",
       "        vertical-align: middle;\n",
       "    }\n",
       "\n",
       "    .dataframe tbody tr th {\n",
       "        vertical-align: top;\n",
       "    }\n",
       "\n",
       "    .dataframe thead th {\n",
       "        text-align: right;\n",
       "    }\n",
       "</style>\n",
       "<table border=\"1\" class=\"dataframe\">\n",
       "  <thead>\n",
       "    <tr style=\"text-align: right;\">\n",
       "      <th></th>\n",
       "      <th>tweet_id</th>\n",
       "      <th>username</th>\n",
       "      <th>text</th>\n",
       "      <th>airline_name</th>\n",
       "      <th>airline_sentiment</th>\n",
       "      <th>tweet_location</th>\n",
       "    </tr>\n",
       "  </thead>\n",
       "  <tbody>\n",
       "    <tr>\n",
       "      <th>12180</th>\n",
       "      <td>5.702680e+17</td>\n",
       "      <td>hooton</td>\n",
       "      <td>@AmericanAir my flight to DFW from LIT on my w...</td>\n",
       "      <td>American</td>\n",
       "      <td>negative</td>\n",
       "      <td>Little Rock, AR</td>\n",
       "    </tr>\n",
       "    <tr>\n",
       "      <th>13027</th>\n",
       "      <td>5.699580e+17</td>\n",
       "      <td>Robin_Downing</td>\n",
       "      <td>@AmericanAir Just called regarding my bag, cam...</td>\n",
       "      <td>American</td>\n",
       "      <td>negative</td>\n",
       "      <td>NaN</td>\n",
       "    </tr>\n",
       "    <tr>\n",
       "      <th>7017</th>\n",
       "      <td>5.699540e+17</td>\n",
       "      <td>EmilyTetreault</td>\n",
       "      <td>@JetBlue when can we start Flight Booking Prob...</td>\n",
       "      <td>Delta</td>\n",
       "      <td>neutral</td>\n",
       "      <td>NaN</td>\n",
       "    </tr>\n",
       "    <tr>\n",
       "      <th>5589</th>\n",
       "      <td>5.688810e+17</td>\n",
       "      <td>JuliaMooch1</td>\n",
       "      <td>@SouthwestAir what about for us that cant get ...</td>\n",
       "      <td>Southwest</td>\n",
       "      <td>negative</td>\n",
       "      <td>Boston</td>\n",
       "    </tr>\n",
       "    <tr>\n",
       "      <th>3236</th>\n",
       "      <td>5.685760e+17</td>\n",
       "      <td>GDClearedToLand</td>\n",
       "      <td>@United line up @iah #IAH @AirlineGeeks #avgee...</td>\n",
       "      <td>United</td>\n",
       "      <td>neutral</td>\n",
       "      <td>NaN</td>\n",
       "    </tr>\n",
       "  </tbody>\n",
       "</table>\n",
       "</div>"
      ],
      "text/plain": [
       "           tweet_id         username  \\\n",
       "12180  5.702680e+17           hooton   \n",
       "13027  5.699580e+17    Robin_Downing   \n",
       "7017   5.699540e+17   EmilyTetreault   \n",
       "5589   5.688810e+17      JuliaMooch1   \n",
       "3236   5.685760e+17  GDClearedToLand   \n",
       "\n",
       "                                                    text airline_name  \\\n",
       "12180  @AmericanAir my flight to DFW from LIT on my w...     American   \n",
       "13027  @AmericanAir Just called regarding my bag, cam...     American   \n",
       "7017   @JetBlue when can we start Flight Booking Prob...        Delta   \n",
       "5589   @SouthwestAir what about for us that cant get ...    Southwest   \n",
       "3236   @United line up @iah #IAH @AirlineGeeks #avgee...       United   \n",
       "\n",
       "      airline_sentiment   tweet_location  \n",
       "12180          negative  Little Rock, AR  \n",
       "13027          negative              NaN  \n",
       "7017            neutral              NaN  \n",
       "5589           negative           Boston  \n",
       "3236            neutral              NaN  "
      ]
     },
     "execution_count": 4,
     "metadata": {},
     "output_type": "execute_result"
    }
   ],
   "source": [
    "from sklearn.utils import shuffle\n",
    "import pandas as pd\n",
    "train_df1 = pd.read_csv(\"../data/train_data.csv\", encoding = \"ISO-8859-1\")\n",
    "df = df.drop(['Unnamed: 0'],axis=1)\n",
    "df = df.dropna(subset=['text'])\n",
    "df = shuffle(df)\n",
    "df.head()"
   ]
  },
  {
   "cell_type": "code",
   "execution_count": 5,
   "id": "d0d8e5dc",
   "metadata": {},
   "outputs": [],
   "source": [
    "df['processed_tweet'] = df['text'].apply(lambda x: preprocess(x)) "
   ]
  },
  {
   "cell_type": "code",
   "execution_count": 6,
   "id": "ac27d6c9",
   "metadata": {},
   "outputs": [],
   "source": [
    "def remove_if_empty(df):\n",
    "    empty_ids = df['processed_tweet'].map(lambda i: len(i)) > 0\n",
    "    idsToDelete = []\n",
    "    for i in range(len(empty_ids)):\n",
    "        if not empty_ids[i]:\n",
    "            idsToDelete.append(i)\n",
    "    for currentID in idsToDelete:\n",
    "        df = df.drop(df[df.index == currentID].index[0])\n",
    "    return df"
   ]
  },
  {
   "cell_type": "code",
   "execution_count": 7,
   "id": "832f40a3",
   "metadata": {},
   "outputs": [],
   "source": [
    "df = df.reset_index(drop=True)"
   ]
  },
  {
   "cell_type": "code",
   "execution_count": 8,
   "id": "4218955b",
   "metadata": {},
   "outputs": [],
   "source": [
    "df = remove_if_empty(df)"
   ]
  },
  {
   "cell_type": "code",
   "execution_count": 9,
   "id": "4278a06b",
   "metadata": {},
   "outputs": [
    {
     "data": {
      "text/html": [
       "<div>\n",
       "<style scoped>\n",
       "    .dataframe tbody tr th:only-of-type {\n",
       "        vertical-align: middle;\n",
       "    }\n",
       "\n",
       "    .dataframe tbody tr th {\n",
       "        vertical-align: top;\n",
       "    }\n",
       "\n",
       "    .dataframe thead th {\n",
       "        text-align: right;\n",
       "    }\n",
       "</style>\n",
       "<table border=\"1\" class=\"dataframe\">\n",
       "  <thead>\n",
       "    <tr style=\"text-align: right;\">\n",
       "      <th></th>\n",
       "      <th>tweet_id</th>\n",
       "      <th>username</th>\n",
       "      <th>text</th>\n",
       "      <th>airline_name</th>\n",
       "      <th>airline_sentiment</th>\n",
       "      <th>tweet_location</th>\n",
       "      <th>processed_tweet</th>\n",
       "    </tr>\n",
       "  </thead>\n",
       "  <tbody>\n",
       "    <tr>\n",
       "      <th>0</th>\n",
       "      <td>5.702680e+17</td>\n",
       "      <td>hooton</td>\n",
       "      <td>@AmericanAir my flight to DFW from LIT on my w...</td>\n",
       "      <td>American</td>\n",
       "      <td>negative</td>\n",
       "      <td>Little Rock, AR</td>\n",
       "      <td>[dfw, light, way, pdx, tomorrow, cancel, help]</td>\n",
       "    </tr>\n",
       "    <tr>\n",
       "      <th>1</th>\n",
       "      <td>5.699580e+17</td>\n",
       "      <td>Robin_Downing</td>\n",
       "      <td>@AmericanAir Just called regarding my bag, cam...</td>\n",
       "      <td>American</td>\n",
       "      <td>negative</td>\n",
       "      <td>NaN</td>\n",
       "      <td>[call, regard, bag, come, yesterday, one, noti...</td>\n",
       "    </tr>\n",
       "    <tr>\n",
       "      <th>2</th>\n",
       "      <td>5.699540e+17</td>\n",
       "      <td>EmilyTetreault</td>\n",
       "      <td>@JetBlue when can we start Flight Booking Prob...</td>\n",
       "      <td>Delta</td>\n",
       "      <td>neutral</td>\n",
       "      <td>NaN</td>\n",
       "      <td>[start, book, problems, november]</td>\n",
       "    </tr>\n",
       "    <tr>\n",
       "      <th>3</th>\n",
       "      <td>5.688810e+17</td>\n",
       "      <td>JuliaMooch1</td>\n",
       "      <td>@SouthwestAir what about for us that cant get ...</td>\n",
       "      <td>Southwest</td>\n",
       "      <td>negative</td>\n",
       "      <td>Boston</td>\n",
       "      <td>[cant, state, play, hunt, ticket, lefteven, one]</td>\n",
       "    </tr>\n",
       "    <tr>\n",
       "      <th>4</th>\n",
       "      <td>5.685760e+17</td>\n",
       "      <td>GDClearedToLand</td>\n",
       "      <td>@United line up @iah #IAH @AirlineGeeks #avgee...</td>\n",
       "      <td>United</td>\n",
       "      <td>neutral</td>\n",
       "      <td>NaN</td>\n",
       "      <td>[unite, line]</td>\n",
       "    </tr>\n",
       "  </tbody>\n",
       "</table>\n",
       "</div>"
      ],
      "text/plain": [
       "       tweet_id         username  \\\n",
       "0  5.702680e+17           hooton   \n",
       "1  5.699580e+17    Robin_Downing   \n",
       "2  5.699540e+17   EmilyTetreault   \n",
       "3  5.688810e+17      JuliaMooch1   \n",
       "4  5.685760e+17  GDClearedToLand   \n",
       "\n",
       "                                                text airline_name  \\\n",
       "0  @AmericanAir my flight to DFW from LIT on my w...     American   \n",
       "1  @AmericanAir Just called regarding my bag, cam...     American   \n",
       "2  @JetBlue when can we start Flight Booking Prob...        Delta   \n",
       "3  @SouthwestAir what about for us that cant get ...    Southwest   \n",
       "4  @United line up @iah #IAH @AirlineGeeks #avgee...       United   \n",
       "\n",
       "  airline_sentiment   tweet_location  \\\n",
       "0          negative  Little Rock, AR   \n",
       "1          negative              NaN   \n",
       "2           neutral              NaN   \n",
       "3          negative           Boston   \n",
       "4           neutral              NaN   \n",
       "\n",
       "                                     processed_tweet  \n",
       "0     [dfw, light, way, pdx, tomorrow, cancel, help]  \n",
       "1  [call, regard, bag, come, yesterday, one, noti...  \n",
       "2                  [start, book, problems, november]  \n",
       "3   [cant, state, play, hunt, ticket, lefteven, one]  \n",
       "4                                      [unite, line]  "
      ]
     },
     "execution_count": 9,
     "metadata": {},
     "output_type": "execute_result"
    }
   ],
   "source": [
    "df.head()"
   ]
  },
  {
   "cell_type": "code",
   "execution_count": 10,
   "id": "d146a7e5",
   "metadata": {},
   "outputs": [],
   "source": [
    "X = df.drop(['airline_sentiment'],axis=1)\n",
    "y = df['airline_sentiment']\n",
    "\n",
    "X_train, X_test, y_train, y_test = train_test_split(X,y, test_size = 0.2, random_state = 42)"
   ]
  },
  {
   "cell_type": "code",
   "execution_count": 11,
   "id": "d604d4d1",
   "metadata": {},
   "outputs": [],
   "source": [
    "def decode_prediction(prediction):\n",
    "    if prediction == 0:\n",
    "        return \"Negative\"\n",
    "    elif prediction == 1:\n",
    "        return \"Neutral\"\n",
    "    else:\n",
    "        return \"Positive\"\n",
    "\n",
    "def predict_sentiment(text):\n",
    "    text = preprocess(text)\n",
    "    text = pad_sequences(tokenizer.texts_to_sequences([text]), maxlen = max_length, dtype='float64')\n",
    "\n",
    "    prediction = model.predict([text])\n",
    "    result = np.where(prediction[0] == np.amax(prediction[0]))\n",
    "\n",
    "    return decode_prediction(result[0])"
   ]
  },
  {
   "cell_type": "code",
   "execution_count": 12,
   "id": "2d97c176",
   "metadata": {},
   "outputs": [],
   "source": [
    "y_pred = X_test['text'].apply(lambda x: predict_sentiment(x))"
   ]
  },
  {
   "cell_type": "code",
   "execution_count": 13,
   "id": "b69147ac",
   "metadata": {},
   "outputs": [],
   "source": [
    "y_pred = y_pred.map({'Negative':0,'Neutral':1,'Positive':2})"
   ]
  },
  {
   "cell_type": "code",
   "execution_count": 14,
   "id": "3b66d0a2",
   "metadata": {},
   "outputs": [],
   "source": [
    "y_test = y_test.map({'negative':0,'neutral':1,'positive':2})"
   ]
  },
  {
   "cell_type": "code",
   "execution_count": 15,
   "id": "e89131f0",
   "metadata": {},
   "outputs": [
    {
     "data": {
      "text/plain": [
       "array([[3123,  278,  498],\n",
       "       [ 379,  640,  262],\n",
       "       [ 159,  126,  724]])"
      ]
     },
     "execution_count": 15,
     "metadata": {},
     "output_type": "execute_result"
    }
   ],
   "source": [
    "cnf_matrix = confusion_matrix(y_test, y_pred)\n",
    "cnf_matrix"
   ]
  },
  {
   "cell_type": "code",
   "execution_count": 16,
   "id": "a30c8508",
   "metadata": {},
   "outputs": [],
   "source": [
    "def plot_confusion_matrix(cm, classes):\n",
    "\n",
    "    tick_marks = np.arange(len(classes))\n",
    "    \n",
    "    for i, j in itertools.product(range(cm.shape[0]), range(cm.shape[1])):\n",
    "        plt.text(j, i, format(cm[i, j]), horizontalalignment=\"center\",\n",
    "                 color=\"white\" if cm[i, j] > (cm.max() / 2.0) else \"black\")\n",
    "    \n",
    "    plt.imshow(cm, cmap = plt.cm.YlGnBu)\n",
    "    plt.colorbar()\n",
    "    plt.title('Confusion matrix')\n",
    "    plt.ylabel('True label')\n",
    "    plt.xlabel('Predicted label')\n",
    "    plt.xticks(tick_marks, classes)\n",
    "    plt.yticks(tick_marks, classes)\n",
    "    plt.tight_layout()"
   ]
  },
  {
   "cell_type": "code",
   "execution_count": 17,
   "id": "33ee5275",
   "metadata": {},
   "outputs": [
    {
     "data": {
      "image/png": "[encoded data removed]",
      "text/plain": [
       "<Figure size 432x288 with 2 Axes>"
      ]
     },
     "metadata": {
      "needs_background": "light"
     },
     "output_type": "display_data"
    }
   ],
   "source": [
    "plot_confusion_matrix(cnf_matrix, classes=['Negative', 'Neutral', 'Positive'])"
   ]
  },
  {
   "cell_type": "code",
   "execution_count": 18,
   "id": "c23ccb42",
   "metadata": {},
   "outputs": [
    {
     "name": "stdout",
     "output_type": "stream",
     "text": [
      "\n",
      "Accuracy: 0.72\n",
      "\n",
      "Weighted Precision: 0.74\n",
      "Weighted Recall: 0.72\n",
      "Weighted F1-score: 0.73\n"
     ]
    }
   ],
   "source": [
    "print('\\nAccuracy: {:.2f}\\n'.format(accuracy_score(y_test, y_pred)))\n",
    "\n",
    "print('Weighted Precision: {:.2f}'.format(precision_score(y_test, y_pred, average='weighted')))\n",
    "print('Weighted Recall: {:.2f}'.format(recall_score(y_test, y_pred, average='weighted')))\n",
    "print('Weighted F1-score: {:.2f}'.format(f1_score(y_test, y_pred, average='weighted')))"
   ]
  }
 ],
 "metadata": {
  "kernelspec": {
   "display_name": "Python 3 (ipykernel)",
   "language": "python",
   "name": "python3"
  },
  "language_info": {
   "codemirror_mode": {
    "name": "ipython",
    "version": 3
   },
   "file_extension": ".py",
   "mimetype": "text/x-python",
   "name": "python",
   "nbconvert_exporter": "python",
   "pygments_lexer": "ipython3",
   "version": "3.9.10"
  }
 },
 "nbformat": 4,
 "nbformat_minor": 5
}
